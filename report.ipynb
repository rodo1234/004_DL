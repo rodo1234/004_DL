{
 "cells": [
  {
   "cell_type": "code",
   "execution_count": null,
   "metadata": {},
   "outputs": [],
   "source": [
    "from sklearn.preprocessing import StandardScaler\n",
    "from utils.ds_clean import clean_ds\n",
    "from tensorflow.keras.models import load_model\n",
    "import pandas as pd\n",
    "import matplotlib.pyplot as plt\n",
    "\n",
    "\n"
   ]
  },
  {
   "cell_type": "code",
   "execution_count": null,
   "metadata": {},
   "outputs": [],
   "source": [
    "df_tets = clean_ds(pd.read_csv('data/aapl_5m_test.csv'))\n",
    "model_buy = load_model('deep_learning/model_buy_rnn.keras')\n",
    "model_sell = load_model('deep_learning/model_sell_rnn.keras')\n",
    "\n",
    "close_data_test = df_tets[['Timestamp','Close', 'X_t-1', 'X_t-2', 'X_t-3', 'X_t-4' ,'X_t-5','RSI', 'Y_BUY']].dropna()\n",
    "cl_dat_test = close_data_test.copy()\n",
    "\n",
    "x_buy_test = cl_dat_test.drop(columns=['Timestamp','Y_BUY']).values\n",
    "scaler = StandardScaler()\n",
    "X_scaled = scaler.fit_transform(x_buy_test)\n",
    "X_reshaped = X_scaled.reshape(X_scaled.shape[0], 1, X_scaled.shape[1])\n",
    "\n",
    "close_data_test['Y_BUY_PRED_RNN'] = (model_buy.predict(X_reshaped)) > 0.5\n",
    "close_data_test = close_data_test.drop(columns=['Y_BUY','RSI','X_t-1','X_t-2','X_t-3','X_t-4' ,'X_t-5'])\n",
    "close_data_test['Y_SELL_PRED_RNN'] = (model_sell.predict(X_reshaped)) > 0.5\n",
    "\n",
    "#convertir a booleano\n"
   ]
  },
  {
   "cell_type": "code",
   "execution_count": null,
   "metadata": {},
   "outputs": [],
   "source": [
    "close_data_test"
   ]
  },
  {
   "cell_type": "markdown",
   "metadata": {},
   "source": [
    "Best buy/sell overall strategy: rnn_strategy with value: 5635457.340371052\n",
    "Best buy/sell strategy parameters: {'stop_loss': 0.03202113504755525, 'take_profit': 0.04768956604374807, 'n_shares': 101}"
   ]
  },
  {
   "cell_type": "code",
   "execution_count": null,
   "metadata": {},
   "outputs": [],
   "source": [
    "cash = 1_000_000\n",
    "active_operations = []\n",
    "com = 0.00125  # comision en GBM\n",
    "strategy_value = [1_000_000]\n",
    "stop_loss = 0.013457462530738862\n",
    "take_profit = 0.04031579058294208\n",
    "n_shares = 158\n",
    "\n",
    "class Operation:\n",
    "    def __init__(self, operation_type, bought_at, timestamp, n_shares, stop_loss, take_profit):\n",
    "        self.operation_type = operation_type\n",
    "        self.bought_at = bought_at\n",
    "        self.timestamp = timestamp\n",
    "        self.n_shares = n_shares\n",
    "        # self.sold_at = None\n",
    "        self.stop_loss = stop_loss\n",
    "        self.take_profit = take_profit\n",
    "\n",
    "for i, row in close_data_test.iterrows():\n",
    "    # Close Operations\n",
    "    temp_operations = []\n",
    "    for op in active_operations:\n",
    "        if op.operation_type == 'Long':\n",
    "            if op.stop_loss > row.Close:\n",
    "                cash += row.Close * op.n_shares * (1 - com)\n",
    "            elif op.take_profit < row.Close:\n",
    "                cash += row.Close * op.n_shares * (1 - com)\n",
    "            else:\n",
    "                temp_operations.append(op)\n",
    "        elif op.operation_type == 'Short':\n",
    "            if op.stop_loss < row.Close:\n",
    "                cash -= row.Close * op.n_shares * (1 + com)\n",
    "            elif op.take_profit > row.Close:\n",
    "                cash -= row.Close * op.n_shares * (1 + com)\n",
    "            else:\n",
    "                temp_operations.append(op)\n",
    "    active_operations = temp_operations\n",
    "\n",
    "    # Open Operations\n",
    "    if row.Y_BUY_PRED_RNN:\n",
    "        n_shares = n_shares\n",
    "        stop_loss = row.Close * stop_loss\n",
    "        take_profit = row.Close * (1 + take_profit)\n",
    "        active_operations.append(\n",
    "            Operation('Long', row.Close, row.Timestamp, n_shares, stop_loss, take_profit))\n",
    "        cash -= row.Close * n_shares * (1 + com)\n",
    "    elif row.Y_SELL_PRED_RNN:\n",
    "        n_shares = n_shares\n",
    "        stop_loss = row.Close * (1 + stop_loss)\n",
    "        take_profit = row.Close * take_profit\n",
    "        active_operations.append(\n",
    "            Operation('Short', row.Close, row.Timestamp, n_shares, stop_loss, take_profit))\n",
    "        cash += row.Close * n_shares * (1 - com)\n",
    "\n",
    "    total_value = len(active_operations) * row.Close * n_shares\n",
    "    strategy_value.append(cash + total_value)\n",
    "    \n",
    "plt.figure(figsize=(12, 6))\n",
    "plt.plot(strategy_value)\n",
    "plt.title('Valor de la estrategia RNN')\n",
    "plt.xlabel('Período')\n",
    "plt.ylabel('Valor')\n",
    "plt.show()\n",
    "print(\"Valor de la estrategia RNN: \", strategy_value[-1])"
   ]
  }
 ],
 "metadata": {
  "kernelspec": {
   "display_name": ".venv",
   "language": "python",
   "name": "python3"
  },
  "language_info": {
   "codemirror_mode": {
    "name": "ipython",
    "version": 3
   },
   "file_extension": ".py",
   "mimetype": "text/x-python",
   "name": "python",
   "nbconvert_exporter": "python",
   "pygments_lexer": "ipython3",
   "version": "3.11.8"
  }
 },
 "nbformat": 4,
 "nbformat_minor": 2
}
