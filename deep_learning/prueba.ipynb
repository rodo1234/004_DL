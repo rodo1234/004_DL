{
 "cells": [
  {
   "cell_type": "code",
   "execution_count": 1,
   "metadata": {},
   "outputs": [
    {
     "name": "stderr",
     "output_type": "stream",
     "text": [
      "/home/rodo/code/proyecto_4/004_DL/.venv/lib/python3.11/site-packages/tqdm/auto.py:21: TqdmWarning: IProgress not found. Please update jupyter and ipywidgets. See https://ipywidgets.readthedocs.io/en/stable/user_install.html\n",
      "  from .autonotebook import tqdm as notebook_tqdm\n",
      "2024-04-02 18:08:32.244449: I tensorflow/core/util/port.cc:113] oneDNN custom operations are on. You may see slightly different numerical results due to floating-point round-off errors from different computation orders. To turn them off, set the environment variable `TF_ENABLE_ONEDNN_OPTS=0`.\n",
      "2024-04-02 18:08:32.245609: I external/local_tsl/tsl/cuda/cudart_stub.cc:32] Could not find cuda drivers on your machine, GPU will not be used.\n",
      "2024-04-02 18:08:32.305048: I external/local_tsl/tsl/cuda/cudart_stub.cc:32] Could not find cuda drivers on your machine, GPU will not be used.\n",
      "2024-04-02 18:08:32.539346: I tensorflow/core/platform/cpu_feature_guard.cc:210] This TensorFlow binary is optimized to use available CPU instructions in performance-critical operations.\n",
      "To enable the following instructions: AVX2 AVX_VNNI FMA, in other operations, rebuild TensorFlow with the appropriate compiler flags.\n",
      "2024-04-02 18:08:33.454719: W tensorflow/compiler/tf2tensorrt/utils/py_utils.cc:38] TF-TRT Warning: Could not find TensorRT\n"
     ]
    }
   ],
   "source": [
    "import pandas as pd\n",
    "import numpy as np\n",
    "import optuna\n",
    "from sklearn.model_selection import train_test_split\n",
    "from sklearn.preprocessing import StandardScaler\n",
    "import tensorflow as tf\n"
   ]
  },
  {
   "cell_type": "code",
   "execution_count": null,
   "metadata": {},
   "outputs": [],
   "source": [
    "class TradingStrategyOptimizer:\n",
    "    def __init__(self, buy_data_path, sell_data_path):\n",
    "        self.buy_data_path = buy_data_path\n",
    "        self.sell_data_path = sell_data_path\n",
    "        \n",
    "    \n",
    "    def load_and_preprocess_data(self, path):\n",
    "        data = pd.read_csv(path)\n",
    "        y = data.pop('Y_BUY' if 'buy' in path else 'Y_SELL').values\n",
    "        X = data.values\n",
    "        scaler = StandardScaler()\n",
    "        X_scaled = scaler.fit_transform(X)\n",
    "        return train_test_split(X_scaled, y, test_size=0.2, random_state=42)\n",
    "\n",
    "    def objective(self, trial, X_train, y_train, X_val, y_val):\n",
    "        n_layers = trial.suggest_int('n_layers', 1, 3)\n",
    "        n_units = trial.suggest_int('n_units', 50, 200)\n",
    "        lr = trial.suggest_loguniform('lr', 1e-4, 1e-2)\n",
    "        \n",
    "        model = tf.keras.Sequential()\n",
    "        model.add(tf.keras.layers.Dense(n_units, input_dim=X_train.shape[1], activation='relu'))\n",
    "        for _ in range(n_layers - 1):\n",
    "            model.add(tf.keras.layers.Dense(n_units, activation='relu'))\n",
    "        model.add(tf.keras.layers.Dense(1, activation='sigmoid'))\n",
    "        \n",
    "        model.compile(optimizer=tf.keras.optimizers.Adam(learning_rate=lr), \n",
    "                      loss='binary_crossentropy', \n",
    "                      metrics=['accuracy'])\n",
    "        \n",
    "        model.fit(X_train, y_train, validation_data=(X_val, y_val), epochs=10, verbose=False)\n",
    "        _, accuracy = model.evaluate(X_val, y_val, verbose=False)\n",
    "        return accuracy\n",
    "    \n",
    "    def optimize_dnn(self, X_train, y_train, X_val, y_val):\n",
    "        study = optuna.create_study(direction='maximize')\n",
    "        func = lambda trial: self.objective(trial, X_train, y_train, X_val, y_val)\n",
    "        study.optimize(func, n_trials=10)\n",
    "        return study.best_trial.params\n",
    "\n",
    "    def build_and_train_model(self, best_params, X_train, y_train):\n",
    "        n_layers = best_params['n_layers']\n",
    "        n_units = best_params['n_units']\n",
    "        lr = best_params['lr']\n",
    "        \n",
    "        model = tf.keras.Sequential()\n",
    "        model.add(tf.keras.layers.Dense(n_units, input_dim=X_train.shape[1], activation='relu'))\n",
    "        for _ in range(n_layers - 1):\n",
    "            model.add(tf.keras.layers.Dense(n_units, activation='relu'))\n",
    "        model.add(tf.keras.layers.Dense(1, activation='sigmoid'))\n",
    "        \n",
    "        model.compile(optimizer=tf.keras.optimizers.Adam(learning_rate=lr), \n",
    "                      loss='binary_crossentropy', \n",
    "                      metrics=['accuracy'])\n",
    "        \n",
    "        model.fit(X_train, y_train, epochs=10, verbose=False)\n",
    "        return model\n",
    "    \n",
    "    "
   ]
  },
  {
   "cell_type": "code",
   "execution_count": null,
   "metadata": {},
   "outputs": [],
   "source": []
  },
  {
   "cell_type": "code",
   "execution_count": null,
   "metadata": {},
   "outputs": [],
   "source": []
  }
 ],
 "metadata": {
  "kernelspec": {
   "display_name": ".venv",
   "language": "python",
   "name": "python3"
  },
  "language_info": {
   "codemirror_mode": {
    "name": "ipython",
    "version": 3
   },
   "file_extension": ".py",
   "mimetype": "text/x-python",
   "name": "python",
   "nbconvert_exporter": "python",
   "pygments_lexer": "ipython3",
   "version": "3.11.8"
  }
 },
 "nbformat": 4,
 "nbformat_minor": 2
}
