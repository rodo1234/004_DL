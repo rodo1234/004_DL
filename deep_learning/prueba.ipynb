{
 "cells": [
  {
   "cell_type": "code",
   "execution_count": null,
   "metadata": {
    "ExecuteTime": {
     "end_time": "2024-04-08T02:58:29.761898Z",
     "start_time": "2024-04-08T02:58:26.553834Z"
    }
   },
   "outputs": [],
   "source": [
    "import pandas as pd\n",
    "import numpy as np\n",
    "import optuna\n",
    "from sklearn.model_selection import train_test_split\n",
    "from sklearn.preprocessing import StandardScaler\n",
    "import tensorflow as tf\n",
    "from tensorflow.keras.models import load_model\n",
    "import ta\n",
    "from fucnt_opt import TradingStrategyOptimizer_DNN\n",
    "from fucnt_opt import clean_ds\n",
    "from fucnt_opt import dnn_strategy\n",
    "from CNN import TradingStrategyOptimizer_CNN\n",
    "from CNN import cnn_strategy\n",
    "from RNN import TradingStrategyOptimizer_RNN\n",
    "from RNN import rnn_strategy"
   ]
  },
  {
   "cell_type": "code",
   "execution_count": null,
   "metadata": {},
   "outputs": [],
   "source": [
    "optimizer_dnn = TradingStrategyOptimizer_DNN('../data/close_data_buy_5.csv', '../data/close_data_sell_5.csv')\n",
    "df_dnn, model_dnn_buy, model_dnn_sell = optimizer_dnn.run_dnn()\n",
    "optimizer_cnn = TradingStrategyOptimizer_CNN('../data/close_data_buy_5.csv', '../data/close_data_sell_5.csv')\n",
    "df_cnn, model_cnn_buy, model_cnn_sell = optimizer_cnn.run_cnn()\n",
    "optimizer_rnn = TradingStrategyOptimizer_RNN('../data/close_data_buy_5.csv', '../data/close_data_sell_5.csv')\n",
    "df_rnn, model_rnn_buy, model_rnn_sell = optimizer_rnn.run_rnn()"
   ]
  },
  {
   "cell_type": "code",
   "execution_count": null,
   "metadata": {},
   "outputs": [],
   "source": [
    "\n",
    "\n",
    "df1 = pd.read_csv(\"../data/aapl_5m_train.csv\")\n",
    "df_5min = clean_ds(df1)\n",
    "close_data = df_5min[['Timestamp','Close', 'X_t-1', 'X_t-2', 'X_t-3', 'X_t-4' ,'X_t-5','RSI', 'Y_BUY']]\n",
    "close_data = close_data.dropna()\n",
    "\n",
    "df_indexed_dnn = df_dnn.reset_index()\n",
    "df_indexed_cnn = df_cnn.reset_index()\n",
    "df_indexed_rnn = df_rnn.reset_index()\n",
    "\n",
    "close_data_indexed_dnn = close_data.reset_index()\n",
    "\n",
    "close_data_updated = close_data_indexed_dnn.join(df_indexed_dnn[['Y_BUY_PRED_DNN', 'Y_SELL_PRED_DNN']])\n",
    "close_data_updated = close_data_updated.join(df_indexed_cnn[['Y_BUY_PRED_CNN', 'Y_SELL_PRED_CNN']], rsuffix='_CNN')\n",
    "close_data_updated = close_data_updated.join(df_indexed_rnn[['Y_BUY_PRED_RNN', 'Y_SELL_PRED_RNN']], rsuffix='_RNN')\n",
    "\n",
    "\n",
    "closes_5min = close_data_updated[['Timestamp', 'Close','Y_BUY_PRED_DNN', 'Y_SELL_PRED_DNN', 'Y_BUY_PRED_CNN', 'Y_SELL_PRED_CNN', 'Y_BUY_PRED_RNN', 'Y_SELL_PRED_RNN']]\n",
    "closes_5min\n"
   ]
  },
  {
   "cell_type": "code",
   "execution_count": null,
   "metadata": {},
   "outputs": [],
   "source": [
    "\n",
    "\n",
    "\n",
    "cash = 1_000_000\n",
    "active_operations = []\n",
    "com = 0.00125  # comision en GBM\n",
    "strategy_value = [1_000_000]\n",
    "best_global_strategy = {'name': None, 'value': float('-inf')}\n",
    "\n",
    "def optimize(trial):\n",
    "    # Definición de los parámetros a optimizar\n",
    "    stop_loss = trial.suggest_float('stop_loss', 0.00250, 0.05)\n",
    "    take_profit = trial.suggest_float('take_profit', 0.00250, 0.05)\n",
    "    n_shares = trial.suggest_int('n_shares', 5, 200)\n",
    "    \n",
    "    dnn_strat = dnn_strategy(\n",
    "        df=closes_5min,  # df\n",
    "        cash=cash,  # saldo inicial\n",
    "        active_operations=[],\n",
    "        com=com,  # comisión GBM\n",
    "        n_shares=n_shares,\n",
    "        stop_loss=stop_loss,\n",
    "        take_profit=take_profit\n",
    "    )\n",
    "    cnn_strat = cnn_strategy(\n",
    "        df=closes_5min,  # df\n",
    "        cash=cash,  # saldo inicial\n",
    "        active_operations=[],\n",
    "        com=com,  # comisión GBM\n",
    "        n_shares=n_shares,\n",
    "        stop_loss=stop_loss,\n",
    "        take_profit=take_profit\n",
    "    )\n",
    "    rnn_strat = rnn_strategy(\n",
    "        df=closes_5min,  # df\n",
    "        cash=cash,  # saldo inicial\n",
    "        active_operations=[],\n",
    "        com=com,  # comisión GBM\n",
    "        n_shares=n_shares,\n",
    "        stop_loss=stop_loss,\n",
    "        take_profit=take_profit\n",
    "    )\n",
    "\n",
    "    \n",
    "    strategy_values = {\n",
    "        'dnn_strategy': dnn_strat.run_strategy_dnn(),\n",
    "        'cnn_strategy': cnn_strat.run_strategy_cnn(),\n",
    "        'rnn_strategy': rnn_strat.run_strategy_rnn()\n",
    "    }\n",
    "    \n",
    "    best_strategy_name = max(strategy_values, key=strategy_values.get)\n",
    "    best_strategy_value = strategy_values[best_strategy_name]\n",
    "\n",
    "    if best_strategy_value > best_global_strategy['value']:\n",
    "        best_global_strategy['name'] = best_strategy_name\n",
    "        best_global_strategy['value'] = best_strategy_value\n",
    "\n",
    "    \n",
    "    # Retorna el valor de la mejor estrategia\n",
    "    return best_strategy_value"
   ]
  },
  {
   "cell_type": "code",
   "execution_count": null,
   "metadata": {},
   "outputs": [],
   "source": [
    "# Inicializar y ejecutar la optimización\n",
    "\n",
    "study = optuna.create_study(direction='maximize')\n",
    "study.optimize(optimize ,n_trials=10,n_jobs=-1)\n",
    "\n",
    "# Los mejores parámetros encontrados en el mejor trial\n",
    "best_params = study.best_trial.params\n",
    "best_value = study.best_trial.value\n",
    "\n",
    "# Comparar con el mejor valor global previamente encontrado y el nombre de la estrategia\n",
    "best_strategy_name = best_global_strategy['name']\n",
    "best_strategy_value = best_global_strategy['value']\n",
    "\n",
    "# Imprimir los resultados, incluido el nombre de la mejor estrategia global y su valor\n",
    "print(f\"Best buy overall strategy: {best_strategy_name} with value: {best_strategy_value}\")\n",
    "print(\"Best buy strategy parameters:\", best_params)"
   ]
  },
  {
   "cell_type": "code",
   "execution_count": null,
   "metadata": {},
   "outputs": [],
   "source": [
    "from sklearn.preprocessing import StandardScaler\n",
    "\n",
    "df_tets = clean_ds(pd.read_csv('../data/aapl_5m_test.csv'))\n",
    "model_buy = load_model('model_buy_rnn.keras')\n",
    "model_sell = load_model('model_sell_rnn.keras')\n",
    "\n",
    "close_data_test = df_tets[['Timestamp','Close', 'X_t-1', 'X_t-2', 'X_t-3', 'X_t-4' ,'X_t-5','RSI', 'Y_BUY']].dropna()\n",
    "cl_dat_test = close_data_test.copy()\n",
    "\n",
    "x_buy_test = cl_dat_test.drop(columns=['Timestamp','Y_BUY']).values\n",
    "scaler = StandardScaler()\n",
    "X_scaled = scaler.fit_transform(x_buy_test)\n",
    "X_reshaped = X_scaled.reshape(X_scaled.shape[0], 1, X_scaled.shape[1])\n",
    "\n",
    "close_data_test['Y_BUY_PRED_RNN'] = model_rnn_buy.predict(x_buy_test)\n",
    "close_data_test = close_data_test.drop(columns=['Y_BUY','RSI','X_t-1','X_t-2','X_t-3','X_t-4' ,'X_t-5'])\n",
    "close_data_test['Y_SELL_PRED_RNN'] = model_rnn_sell.predict(X_reshaped)\n"
   ]
  },
  {
   "cell_type": "code",
   "execution_count": null,
   "metadata": {},
   "outputs": [],
   "source": []
  },
  {
   "cell_type": "code",
   "execution_count": null,
   "metadata": {},
   "outputs": [],
   "source": []
  }
 ],
 "metadata": {
  "kernelspec": {
   "display_name": ".venv",
   "language": "python",
   "name": "python3"
  },
  "language_info": {
   "codemirror_mode": {
    "name": "ipython",
    "version": 3
   },
   "file_extension": ".py",
   "mimetype": "text/x-python",
   "name": "python",
   "nbconvert_exporter": "python",
   "pygments_lexer": "ipython3",
   "version": "3.11.8"
  }
 },
 "nbformat": 4,
 "nbformat_minor": 2
}
