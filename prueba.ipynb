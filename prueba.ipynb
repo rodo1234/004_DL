{
 "cells": [
  {
   "cell_type": "code",
   "execution_count": 1,
   "metadata": {},
   "outputs": [
    {
     "name": "stderr",
     "output_type": "stream",
     "text": [
      "2024-04-04 19:06:47.622221: I tensorflow/core/util/port.cc:113] oneDNN custom operations are on. You may see slightly different numerical results due to floating-point round-off errors from different computation orders. To turn them off, set the environment variable `TF_ENABLE_ONEDNN_OPTS=0`.\n",
      "2024-04-04 19:06:47.622574: I external/local_tsl/tsl/cuda/cudart_stub.cc:32] Could not find cuda drivers on your machine, GPU will not be used.\n",
      "2024-04-04 19:06:47.625975: I external/local_tsl/tsl/cuda/cudart_stub.cc:32] Could not find cuda drivers on your machine, GPU will not be used.\n",
      "2024-04-04 19:06:47.666091: I tensorflow/core/platform/cpu_feature_guard.cc:210] This TensorFlow binary is optimized to use available CPU instructions in performance-critical operations.\n",
      "To enable the following instructions: AVX2 AVX_VNNI FMA, in other operations, rebuild TensorFlow with the appropriate compiler flags.\n",
      "2024-04-04 19:06:48.485171: W tensorflow/compiler/tf2tensorrt/utils/py_utils.cc:38] TF-TRT Warning: Could not find TensorRT\n"
     ]
    }
   ],
   "source": [
    "from utils.ds_clean import clean_ds\n",
    "import pandas as pd\n",
    "import tensorflow as tf\n",
    "from sklearn.model_selection import train_test_split\n"
   ]
  },
  {
   "cell_type": "code",
   "execution_count": 2,
   "metadata": {},
   "outputs": [],
   "source": [
    "df1 = pd.read_csv(\"data/aapl_5m_train.csv\")\n",
    "df_5min = clean_ds(df1)\n"
   ]
  },
  {
   "cell_type": "code",
   "execution_count": null,
   "metadata": {},
   "outputs": [],
   "source": [
    "df_5min"
   ]
  },
  {
   "cell_type": "code",
   "execution_count": 3,
   "metadata": {},
   "outputs": [],
   "source": [
    "close_data_buy = df_5min[['Close', 'X_t-1', 'X_t-2', 'X_t-3', 'X_t-4' ,'X_t-5','RSI', 'Y_BUY']]\n",
    "close_data_buy = close_data_buy.dropna()"
   ]
  },
  {
   "cell_type": "code",
   "execution_count": null,
   "metadata": {},
   "outputs": [],
   "source": [
    "close_data_buy.to_csv('./data/close_data_buy_5.csv', index=False)"
   ]
  },
  {
   "cell_type": "code",
   "execution_count": 4,
   "metadata": {},
   "outputs": [],
   "source": [
    "close_data_sell = df_5min[['Timestamp','Close', 'X_t-1', 'X_t-2', 'X_t-3', 'X_t-4' ,'X_t-5','RSI', 'Y_SELL']]\n",
    "close_data_sell = close_data_sell.dropna()"
   ]
  },
  {
   "cell_type": "code",
   "execution_count": 5,
   "metadata": {},
   "outputs": [
    {
     "data": {
      "text/html": [
       "<div>\n",
       "<style scoped>\n",
       "    .dataframe tbody tr th:only-of-type {\n",
       "        vertical-align: middle;\n",
       "    }\n",
       "\n",
       "    .dataframe tbody tr th {\n",
       "        vertical-align: top;\n",
       "    }\n",
       "\n",
       "    .dataframe thead th {\n",
       "        text-align: right;\n",
       "    }\n",
       "</style>\n",
       "<table border=\"1\" class=\"dataframe\">\n",
       "  <thead>\n",
       "    <tr style=\"text-align: right;\">\n",
       "      <th></th>\n",
       "      <th>Timestamp</th>\n",
       "      <th>Close</th>\n",
       "      <th>X_t-1</th>\n",
       "      <th>X_t-2</th>\n",
       "      <th>X_t-3</th>\n",
       "      <th>X_t-4</th>\n",
       "      <th>X_t-5</th>\n",
       "      <th>RSI</th>\n",
       "      <th>Y_SELL</th>\n",
       "    </tr>\n",
       "  </thead>\n",
       "  <tbody>\n",
       "    <tr>\n",
       "      <th>27</th>\n",
       "      <td>1609778700</td>\n",
       "      <td>129.413299</td>\n",
       "      <td>129.390106</td>\n",
       "      <td>129.690002</td>\n",
       "      <td>129.910003</td>\n",
       "      <td>129.895004</td>\n",
       "      <td>129.996398</td>\n",
       "      <td>28.060866</td>\n",
       "      <td>True</td>\n",
       "    </tr>\n",
       "    <tr>\n",
       "      <th>28</th>\n",
       "      <td>1609779000</td>\n",
       "      <td>129.148498</td>\n",
       "      <td>129.413299</td>\n",
       "      <td>129.390106</td>\n",
       "      <td>129.690002</td>\n",
       "      <td>129.910003</td>\n",
       "      <td>129.895004</td>\n",
       "      <td>26.485360</td>\n",
       "      <td>True</td>\n",
       "    </tr>\n",
       "    <tr>\n",
       "      <th>29</th>\n",
       "      <td>1609779300</td>\n",
       "      <td>128.820007</td>\n",
       "      <td>129.148498</td>\n",
       "      <td>129.413299</td>\n",
       "      <td>129.390106</td>\n",
       "      <td>129.690002</td>\n",
       "      <td>129.910003</td>\n",
       "      <td>24.701195</td>\n",
       "      <td>True</td>\n",
       "    </tr>\n",
       "    <tr>\n",
       "      <th>30</th>\n",
       "      <td>1609779600</td>\n",
       "      <td>128.580001</td>\n",
       "      <td>128.820007</td>\n",
       "      <td>129.148498</td>\n",
       "      <td>129.413299</td>\n",
       "      <td>129.390106</td>\n",
       "      <td>129.690002</td>\n",
       "      <td>23.501640</td>\n",
       "      <td>True</td>\n",
       "    </tr>\n",
       "    <tr>\n",
       "      <th>31</th>\n",
       "      <td>1609779900</td>\n",
       "      <td>128.351699</td>\n",
       "      <td>128.580001</td>\n",
       "      <td>128.820007</td>\n",
       "      <td>129.148498</td>\n",
       "      <td>129.413299</td>\n",
       "      <td>129.390106</td>\n",
       "      <td>22.427254</td>\n",
       "      <td>True</td>\n",
       "    </tr>\n",
       "    <tr>\n",
       "      <th>...</th>\n",
       "      <td>...</td>\n",
       "      <td>...</td>\n",
       "      <td>...</td>\n",
       "      <td>...</td>\n",
       "      <td>...</td>\n",
       "      <td>...</td>\n",
       "      <td>...</td>\n",
       "      <td>...</td>\n",
       "      <td>...</td>\n",
       "    </tr>\n",
       "    <tr>\n",
       "      <th>39574</th>\n",
       "      <td>1672432800</td>\n",
       "      <td>129.054992</td>\n",
       "      <td>129.039993</td>\n",
       "      <td>129.020004</td>\n",
       "      <td>128.910003</td>\n",
       "      <td>128.940002</td>\n",
       "      <td>128.890106</td>\n",
       "      <td>56.509324</td>\n",
       "      <td>False</td>\n",
       "    </tr>\n",
       "    <tr>\n",
       "      <th>39575</th>\n",
       "      <td>1672433100</td>\n",
       "      <td>129.380004</td>\n",
       "      <td>129.054992</td>\n",
       "      <td>129.039993</td>\n",
       "      <td>129.020004</td>\n",
       "      <td>128.910003</td>\n",
       "      <td>128.940002</td>\n",
       "      <td>60.700323</td>\n",
       "      <td>False</td>\n",
       "    </tr>\n",
       "    <tr>\n",
       "      <th>39576</th>\n",
       "      <td>1672433400</td>\n",
       "      <td>129.764404</td>\n",
       "      <td>129.380004</td>\n",
       "      <td>129.054992</td>\n",
       "      <td>129.039993</td>\n",
       "      <td>129.020004</td>\n",
       "      <td>128.910003</td>\n",
       "      <td>64.854367</td>\n",
       "      <td>False</td>\n",
       "    </tr>\n",
       "    <tr>\n",
       "      <th>39577</th>\n",
       "      <td>1672433700</td>\n",
       "      <td>129.949996</td>\n",
       "      <td>129.764404</td>\n",
       "      <td>129.380004</td>\n",
       "      <td>129.054992</td>\n",
       "      <td>129.039993</td>\n",
       "      <td>129.020004</td>\n",
       "      <td>66.620919</td>\n",
       "      <td>False</td>\n",
       "    </tr>\n",
       "    <tr>\n",
       "      <th>39578</th>\n",
       "      <td>1672434000</td>\n",
       "      <td>129.929992</td>\n",
       "      <td>129.949996</td>\n",
       "      <td>129.764404</td>\n",
       "      <td>129.380004</td>\n",
       "      <td>129.054992</td>\n",
       "      <td>129.039993</td>\n",
       "      <td>66.248712</td>\n",
       "      <td>False</td>\n",
       "    </tr>\n",
       "  </tbody>\n",
       "</table>\n",
       "<p>39538 rows × 9 columns</p>\n",
       "</div>"
      ],
      "text/plain": [
       "        Timestamp       Close       X_t-1       X_t-2       X_t-3       X_t-4  \\\n",
       "27     1609778700  129.413299  129.390106  129.690002  129.910003  129.895004   \n",
       "28     1609779000  129.148498  129.413299  129.390106  129.690002  129.910003   \n",
       "29     1609779300  128.820007  129.148498  129.413299  129.390106  129.690002   \n",
       "30     1609779600  128.580001  128.820007  129.148498  129.413299  129.390106   \n",
       "31     1609779900  128.351699  128.580001  128.820007  129.148498  129.413299   \n",
       "...           ...         ...         ...         ...         ...         ...   \n",
       "39574  1672432800  129.054992  129.039993  129.020004  128.910003  128.940002   \n",
       "39575  1672433100  129.380004  129.054992  129.039993  129.020004  128.910003   \n",
       "39576  1672433400  129.764404  129.380004  129.054992  129.039993  129.020004   \n",
       "39577  1672433700  129.949996  129.764404  129.380004  129.054992  129.039993   \n",
       "39578  1672434000  129.929992  129.949996  129.764404  129.380004  129.054992   \n",
       "\n",
       "            X_t-5        RSI  Y_SELL  \n",
       "27     129.996398  28.060866    True  \n",
       "28     129.895004  26.485360    True  \n",
       "29     129.910003  24.701195    True  \n",
       "30     129.690002  23.501640    True  \n",
       "31     129.390106  22.427254    True  \n",
       "...           ...        ...     ...  \n",
       "39574  128.890106  56.509324   False  \n",
       "39575  128.940002  60.700323   False  \n",
       "39576  128.910003  64.854367   False  \n",
       "39577  129.020004  66.620919   False  \n",
       "39578  129.039993  66.248712   False  \n",
       "\n",
       "[39538 rows x 9 columns]"
      ]
     },
     "execution_count": 5,
     "metadata": {},
     "output_type": "execute_result"
    }
   ],
   "source": [
    "close_data_sell"
   ]
  },
  {
   "cell_type": "code",
   "execution_count": null,
   "metadata": {},
   "outputs": [],
   "source": [
    "close_data_sell.to_csv('./data/close_data_sell_5.csv', index=False)"
   ]
  },
  {
   "cell_type": "code",
   "execution_count": null,
   "metadata": {},
   "outputs": [],
   "source": [
    "x = close_data_buy.drop(columns=['Y_BUY']).values\n",
    "y = close_data_buy[['Y_BUY']].values"
   ]
  },
  {
   "cell_type": "code",
   "execution_count": null,
   "metadata": {},
   "outputs": [],
   "source": [
    "features = x.shape[1]\n",
    "features"
   ]
  },
  {
   "cell_type": "code",
   "execution_count": null,
   "metadata": {},
   "outputs": [],
   "source": [
    "x_train, x_test, y_train, y_test = train_test_split(x, y, test_size=0.2, shuffle=False)"
   ]
  },
  {
   "cell_type": "code",
   "execution_count": null,
   "metadata": {},
   "outputs": [],
   "source": [
    "x_train = x_train.reshape(-1, features, 1)\n",
    "x_test = x_test.reshape(-1, features, 1)"
   ]
  },
  {
   "cell_type": "code",
   "execution_count": null,
   "metadata": {},
   "outputs": [],
   "source": [
    "dnn = tf.keras.models.Sequential(layers=[\n",
    "    tf.keras.layers.Dense(units=256, activation='relu', input_shape=(features,)),\n",
    "    tf.keras.layers.Dense(units=128, activation='relu'),\n",
    "    tf.keras.layers.Dense(units=1, activation='sigmoid')\n",
    "\n",
    "])    "
   ]
  },
  {
   "cell_type": "code",
   "execution_count": null,
   "metadata": {},
   "outputs": [],
   "source": [
    "dnn.compile(optimizer='adam', \n",
    "            loss='binary_crossentropy', \n",
    "            metrics=['accuracy'])"
   ]
  },
  {
   "cell_type": "code",
   "execution_count": null,
   "metadata": {},
   "outputs": [],
   "source": [
    "dnn.summary()"
   ]
  },
  {
   "cell_type": "code",
   "execution_count": null,
   "metadata": {},
   "outputs": [],
   "source": [
    "dnn.fit(x_train, y_train, epochs=50)"
   ]
  }
 ],
 "metadata": {
  "kernelspec": {
   "display_name": ".venv",
   "language": "python",
   "name": "python3"
  },
  "language_info": {
   "codemirror_mode": {
    "name": "ipython",
    "version": 3
   },
   "file_extension": ".py",
   "mimetype": "text/x-python",
   "name": "python",
   "nbconvert_exporter": "python",
   "pygments_lexer": "ipython3",
   "version": "3.11.8"
  }
 },
 "nbformat": 4,
 "nbformat_minor": 2
}
