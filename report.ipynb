{
 "cells": [
  {
   "cell_type": "code",
   "execution_count": 1,
   "metadata": {},
   "outputs": [
    {
     "name": "stderr",
     "output_type": "stream",
     "text": [
      "2024-04-11 19:28:54.193480: I tensorflow/core/util/port.cc:113] oneDNN custom operations are on. You may see slightly different numerical results due to floating-point round-off errors from different computation orders. To turn them off, set the environment variable `TF_ENABLE_ONEDNN_OPTS=0`.\n",
      "2024-04-11 19:28:54.193769: I external/local_tsl/tsl/cuda/cudart_stub.cc:32] Could not find cuda drivers on your machine, GPU will not be used.\n",
      "2024-04-11 19:28:54.196240: I external/local_tsl/tsl/cuda/cudart_stub.cc:32] Could not find cuda drivers on your machine, GPU will not be used.\n",
      "2024-04-11 19:28:54.225679: I tensorflow/core/platform/cpu_feature_guard.cc:210] This TensorFlow binary is optimized to use available CPU instructions in performance-critical operations.\n",
      "To enable the following instructions: AVX2 AVX_VNNI FMA, in other operations, rebuild TensorFlow with the appropriate compiler flags.\n",
      "2024-04-11 19:28:54.774080: W tensorflow/compiler/tf2tensorrt/utils/py_utils.cc:38] TF-TRT Warning: Could not find TensorRT\n"
     ]
    }
   ],
   "source": [
    "from sklearn.preprocessing import StandardScaler\n",
    "from utils.ds_clean import clean_ds\n",
    "from tensorflow.keras.models import load_model\n",
    "import pandas as pd\n",
    "import matplotlib.pyplot as plt\n",
    "\n",
    "\n"
   ]
  },
  {
   "cell_type": "code",
   "execution_count": 2,
   "metadata": {},
   "outputs": [
    {
     "name": "stderr",
     "output_type": "stream",
     "text": [
      "2024-04-11 19:28:55.400630: I external/local_xla/xla/stream_executor/cuda/cuda_executor.cc:984] could not open file to read NUMA node: /sys/bus/pci/devices/0000:01:00.0/numa_node\n",
      "Your kernel may have been built without NUMA support.\n",
      "2024-04-11 19:28:55.400852: W tensorflow/core/common_runtime/gpu/gpu_device.cc:2251] Cannot dlopen some GPU libraries. Please make sure the missing libraries mentioned above are installed properly if you would like to use GPU. Follow the guide at https://www.tensorflow.org/install/gpu for how to download and setup the required libraries for your platform.\n",
      "Skipping registering GPU devices...\n"
     ]
    },
    {
     "name": "stdout",
     "output_type": "stream",
     "text": [
      "\u001b[1m614/614\u001b[0m \u001b[32m━━━━━━━━━━━━━━━━━━━━\u001b[0m\u001b[37m\u001b[0m \u001b[1m0s\u001b[0m 624us/step\n",
      "\u001b[1m614/614\u001b[0m \u001b[32m━━━━━━━━━━━━━━━━━━━━\u001b[0m\u001b[37m\u001b[0m \u001b[1m0s\u001b[0m 615us/step\n"
     ]
    }
   ],
   "source": [
    "df_tets = clean_ds(pd.read_csv('data/aapl_5m_test.csv'))\n",
    "model_buy = load_model('deep_learning/model_buy_rnn.keras')\n",
    "model_sell = load_model('deep_learning/model_sell_rnn.keras')\n",
    "\n",
    "close_data_test = df_tets[['Timestamp','Close', 'X_t-1', 'X_t-2', 'X_t-3', 'X_t-4' ,'X_t-5','RSI', 'Y_BUY']].dropna()\n",
    "cl_dat_test = close_data_test.copy()\n",
    "\n",
    "x_buy_test = cl_dat_test.drop(columns=['Timestamp','Y_BUY']).values\n",
    "scaler = StandardScaler()\n",
    "X_scaled = scaler.fit_transform(x_buy_test)\n",
    "X_reshaped = X_scaled.reshape(X_scaled.shape[0], 1, X_scaled.shape[1])\n",
    "\n",
    "close_data_test['Y_BUY_PRED_CNN'] = (model_buy.predict(X_reshaped)) > 0.5\n",
    "close_data_test = close_data_test.drop(columns=['Y_BUY','RSI','X_t-1','X_t-2','X_t-3','X_t-4' ,'X_t-5'])\n",
    "close_data_test['Y_SELL_PRED_CNN'] = (model_sell.predict(X_reshaped)) > 0.5\n",
    "\n",
    "#convertir a booleano\n"
   ]
  },
  {
   "cell_type": "code",
   "execution_count": 3,
   "metadata": {},
   "outputs": [
    {
     "data": {
      "text/html": [
       "<div>\n",
       "<style scoped>\n",
       "    .dataframe tbody tr th:only-of-type {\n",
       "        vertical-align: middle;\n",
       "    }\n",
       "\n",
       "    .dataframe tbody tr th {\n",
       "        vertical-align: top;\n",
       "    }\n",
       "\n",
       "    .dataframe thead th {\n",
       "        text-align: right;\n",
       "    }\n",
       "</style>\n",
       "<table border=\"1\" class=\"dataframe\">\n",
       "  <thead>\n",
       "    <tr style=\"text-align: right;\">\n",
       "      <th></th>\n",
       "      <th>Timestamp</th>\n",
       "      <th>Close</th>\n",
       "      <th>Y_BUY_PRED_CNN</th>\n",
       "      <th>Y_SELL_PRED_CNN</th>\n",
       "    </tr>\n",
       "  </thead>\n",
       "  <tbody>\n",
       "    <tr>\n",
       "      <th>27</th>\n",
       "      <td>1672764300</td>\n",
       "      <td>124.849998</td>\n",
       "      <td>True</td>\n",
       "      <td>False</td>\n",
       "    </tr>\n",
       "    <tr>\n",
       "      <th>28</th>\n",
       "      <td>1672764600</td>\n",
       "      <td>124.599899</td>\n",
       "      <td>True</td>\n",
       "      <td>False</td>\n",
       "    </tr>\n",
       "    <tr>\n",
       "      <th>29</th>\n",
       "      <td>1672764900</td>\n",
       "      <td>124.742500</td>\n",
       "      <td>True</td>\n",
       "      <td>False</td>\n",
       "    </tr>\n",
       "    <tr>\n",
       "      <th>30</th>\n",
       "      <td>1672765200</td>\n",
       "      <td>124.730003</td>\n",
       "      <td>True</td>\n",
       "      <td>False</td>\n",
       "    </tr>\n",
       "    <tr>\n",
       "      <th>31</th>\n",
       "      <td>1672765500</td>\n",
       "      <td>124.930000</td>\n",
       "      <td>True</td>\n",
       "      <td>False</td>\n",
       "    </tr>\n",
       "    <tr>\n",
       "      <th>...</th>\n",
       "      <td>...</td>\n",
       "      <td>...</td>\n",
       "      <td>...</td>\n",
       "      <td>...</td>\n",
       "    </tr>\n",
       "    <tr>\n",
       "      <th>19674</th>\n",
       "      <td>1703882400</td>\n",
       "      <td>192.500000</td>\n",
       "      <td>False</td>\n",
       "      <td>False</td>\n",
       "    </tr>\n",
       "    <tr>\n",
       "      <th>19675</th>\n",
       "      <td>1703882700</td>\n",
       "      <td>192.510299</td>\n",
       "      <td>False</td>\n",
       "      <td>False</td>\n",
       "    </tr>\n",
       "    <tr>\n",
       "      <th>19676</th>\n",
       "      <td>1703883000</td>\n",
       "      <td>192.369995</td>\n",
       "      <td>False</td>\n",
       "      <td>False</td>\n",
       "    </tr>\n",
       "    <tr>\n",
       "      <th>19677</th>\n",
       "      <td>1703883300</td>\n",
       "      <td>192.520004</td>\n",
       "      <td>False</td>\n",
       "      <td>False</td>\n",
       "    </tr>\n",
       "    <tr>\n",
       "      <th>19678</th>\n",
       "      <td>1703883600</td>\n",
       "      <td>192.529998</td>\n",
       "      <td>False</td>\n",
       "      <td>False</td>\n",
       "    </tr>\n",
       "  </tbody>\n",
       "</table>\n",
       "<p>19638 rows × 4 columns</p>\n",
       "</div>"
      ],
      "text/plain": [
       "        Timestamp       Close  Y_BUY_PRED_CNN  Y_SELL_PRED_CNN\n",
       "27     1672764300  124.849998            True            False\n",
       "28     1672764600  124.599899            True            False\n",
       "29     1672764900  124.742500            True            False\n",
       "30     1672765200  124.730003            True            False\n",
       "31     1672765500  124.930000            True            False\n",
       "...           ...         ...             ...              ...\n",
       "19674  1703882400  192.500000           False            False\n",
       "19675  1703882700  192.510299           False            False\n",
       "19676  1703883000  192.369995           False            False\n",
       "19677  1703883300  192.520004           False            False\n",
       "19678  1703883600  192.529998           False            False\n",
       "\n",
       "[19638 rows x 4 columns]"
      ]
     },
     "execution_count": 3,
     "metadata": {},
     "output_type": "execute_result"
    }
   ],
   "source": [
    "close_data_test"
   ]
  },
  {
   "cell_type": "markdown",
   "metadata": {},
   "source": [
    "Best buy/sell overall strategy: rnn_strategy with value: 5635457.340371052\n",
    "Best buy/sell strategy parameters: {'stop_loss': 0.03202113504755525, 'take_profit': 0.04768956604374807, 'n_shares': 101}"
   ]
  },
  {
   "cell_type": "code",
   "execution_count": 4,
   "metadata": {},
   "outputs": [
    {
     "data": {
      "image/png": "[encoded data removed]",
      "text/plain": [
       "<Figure size 1200x600 with 1 Axes>"
      ]
     },
     "metadata": {},
     "output_type": "display_data"
    },
    {
     "name": "stdout",
     "output_type": "stream",
     "text": [
      "Valor de la estrategia RNN:  -7708191.3221269045\n"
     ]
    }
   ],
   "source": [
    "cash = 1_000_000\n",
    "active_operations = []\n",
    "com = 0.00125  # comision en GBM\n",
    "strategy_value = [1_000_000]\n",
    "stop_loss = 0.03451137396108058\n",
    "take_profit = 0.007335240907359543\n",
    "n_shares = 9\n",
    "\n",
    "class Operation:\n",
    "    def __init__(self, operation_type, bought_at, timestamp, n_shares, stop_loss, take_profit):\n",
    "        self.operation_type = operation_type\n",
    "        self.bought_at = bought_at\n",
    "        self.timestamp = timestamp\n",
    "        self.n_shares = n_shares\n",
    "        # self.sold_at = None\n",
    "        self.stop_loss = stop_loss\n",
    "        self.take_profit = take_profit\n",
    "\n",
    "for i, row in close_data_test.iterrows():\n",
    "    # Close Operations\n",
    "    temp_operations = []\n",
    "    for op in active_operations:\n",
    "        if op.operation_type == 'Long':\n",
    "            if op.stop_loss > row.Close:\n",
    "                cash += row.Close * op.n_shares * (1 - com)\n",
    "            elif op.take_profit < row.Close:\n",
    "                cash += row.Close * op.n_shares * (1 - com)\n",
    "            else:\n",
    "                temp_operations.append(op)\n",
    "        elif op.operation_type == 'Short':\n",
    "            if op.stop_loss < row.Close:\n",
    "                cash -= row.Close * op.n_shares * (1 + com)\n",
    "            elif op.take_profit > row.Close:\n",
    "                cash -= row.Close * op.n_shares * (1 + com)\n",
    "            else:\n",
    "                temp_operations.append(op)\n",
    "    active_operations = temp_operations\n",
    "\n",
    "    # Open Operations\n",
    "    if row.Y_BUY_PRED_CNN:\n",
    "        n_shares = n_shares\n",
    "        stop_loss = row.Close * (1 - stop_loss)\n",
    "        take_profit = row.Close * (1 + take_profit)\n",
    "        active_operations.append(\n",
    "            Operation('Long', row.Close, row.Timestamp, n_shares, stop_loss, take_profit))\n",
    "        cash -= row.Close * n_shares * (1 + com)\n",
    "    elif row.Y_SELL_PRED_CNN:\n",
    "        n_shares = n_shares\n",
    "        stop_loss = row.Close * (1 + stop_loss)\n",
    "        take_profit = row.Close * (1 - take_profit)\n",
    "        active_operations.append(\n",
    "            Operation('Short', row.Close, row.Timestamp, n_shares, stop_loss, take_profit))\n",
    "        cash += row.Close * n_shares * (1 - com)\n",
    "\n",
    "    total_value = len(active_operations) * row.Close \n",
    "    strategy_value.append(cash + total_value)\n",
    "    \n",
    "plt.figure(figsize=(12, 6))\n",
    "plt.plot(strategy_value)\n",
    "plt.title('Valor de la estrategia RNN')\n",
    "plt.xlabel('Período')\n",
    "plt.ylabel('Valor')\n",
    "plt.show()\n",
    "print(\"Valor de la estrategia RNN: \", strategy_value[-1])"
   ]
  }
 ],
 "metadata": {
  "kernelspec": {
   "display_name": ".venv",
   "language": "python",
   "name": "python3"
  },
  "language_info": {
   "codemirror_mode": {
    "name": "ipython",
    "version": 3
   },
   "file_extension": ".py",
   "mimetype": "text/x-python",
   "name": "python",
   "nbconvert_exporter": "python",
   "pygments_lexer": "ipython3",
   "version": "3.11.8"
  }
 },
 "nbformat": 4,
 "nbformat_minor": 2
}
